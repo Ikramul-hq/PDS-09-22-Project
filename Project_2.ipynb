{
  "nbformat": 4,
  "nbformat_minor": 0,
  "metadata": {
    "colab": {
      "provenance": []
    },
    "kernelspec": {
      "name": "python3",
      "display_name": "Python 3"
    },
    "language_info": {
      "name": "python"
    }
  },
  "cells": [
    {
      "cell_type": "markdown",
      "source": [
        "Step 1: Create term-test-1-result.csv"
      ],
      "metadata": {
        "id": "RGjmL3m1utBK"
      }
    },
    {
      "cell_type": "code",
      "execution_count": 1,
      "metadata": {
        "id": "6DKv2_hXuAkk"
      },
      "outputs": [],
      "source": [
        "import pandas as pd\n",
        "import numpy as np\n",
        "\n",
        "# Generate random data for 50 students\n",
        "np.random.seed(42)\n",
        "registration_numbers = [f'REG{i:03d}' for i in range(1, 51)]\n",
        "names = [f'Student{i}' for i in range(1, 51)]\n",
        "tt1_marks = np.random.randint(0, 21, 50)  # Random marks between 0 and 20\n",
        "\n",
        "# Create DataFrame\n",
        "df_tt1 = pd.DataFrame({\n",
        "    'Registration Number': registration_numbers,\n",
        "    'Name': names,\n",
        "    'TT-1 Marks': tt1_marks\n",
        "})\n",
        "\n",
        "# Save to CSV\n",
        "df_tt1.to_csv('term-test-1-result.csv', index=False)"
      ]
    },
    {
      "cell_type": "markdown",
      "source": [
        "Step 2: Creating term-test-2-result.csv"
      ],
      "metadata": {
        "id": "fWvysNaTuw25"
      }
    },
    {
      "cell_type": "code",
      "source": [
        "# Generate random data for TT-2 marks\n",
        "tt2_marks = np.random.randint(0, 21, 50)  # Random marks between 0 and 20\n",
        "\n",
        "# Create DataFrame\n",
        "df_tt2 = pd.DataFrame({\n",
        "    'Registration Number': registration_numbers,\n",
        "    'Name': names,\n",
        "    'TT-2 Marks': tt2_marks\n",
        "})\n",
        "\n",
        "# Save to CSV\n",
        "df_tt2.to_csv('term-test-2-result.csv', index=False)"
      ],
      "metadata": {
        "id": "-vi4AXbKuFRz"
      },
      "execution_count": 2,
      "outputs": []
    },
    {
      "cell_type": "markdown",
      "source": [
        "Step 3: Load and Merge DataFrames"
      ],
      "metadata": {
        "id": "gr45zO4Vu09J"
      }
    },
    {
      "cell_type": "code",
      "source": [
        "# Load CSV files\n",
        "df_tt1 = pd.read_csv('term-test-1-result.csv')\n",
        "df_tt2 = pd.read_csv('term-test-2-result.csv')\n",
        "\n",
        "# Merge DataFrames on 'Registration Number'\n",
        "df_merged = pd.merge(df_tt1, df_tt2, on=['Registration Number', 'Name'])"
      ],
      "metadata": {
        "id": "b_ji2usOuI5B"
      },
      "execution_count": 3,
      "outputs": []
    },
    {
      "cell_type": "markdown",
      "source": [
        "Step 4: Create New Columns"
      ],
      "metadata": {
        "id": "aQjB_yTju507"
      }
    },
    {
      "cell_type": "code",
      "source": [
        "# Create 'Best Marks' column\n",
        "df_merged['Best Marks'] = df_merged[['TT-1 Marks', 'TT-2 Marks']].max(axis=1)\n",
        "\n",
        "# Create 'Average Marks' column\n",
        "df_merged['Average Marks'] = df_merged[['TT-1 Marks', 'TT-2 Marks']].mean(axis=1)"
      ],
      "metadata": {
        "id": "gMINheZ2uMLZ"
      },
      "execution_count": 4,
      "outputs": []
    },
    {
      "cell_type": "markdown",
      "source": [
        "Step 5: Drop Unnecessary Columns"
      ],
      "metadata": {
        "id": "lBqmiEKEu8ug"
      }
    },
    {
      "cell_type": "code",
      "source": [
        "# Drop 'TT-1 Marks' and 'TT-2 Marks' columns\n",
        "df_merged = df_merged.drop(columns=['TT-1 Marks', 'TT-2 Marks'])"
      ],
      "metadata": {
        "id": "QnGr42k7uO-p"
      },
      "execution_count": 5,
      "outputs": []
    },
    {
      "cell_type": "markdown",
      "source": [
        "Step 6: Create Attendance and Term Final Marks CSV"
      ],
      "metadata": {
        "id": "7_d4PEXKu_rB"
      }
    },
    {
      "cell_type": "code",
      "source": [
        "# Generate random data for attendance and term final marks\n",
        "attendance_marks = np.random.randint(0, 11, 50)  # Random marks between 0 and 10\n",
        "term_final_marks = np.random.randint(0, 101, 50)  # Random marks between 0 and 100\n",
        "\n",
        "# Create DataFrame\n",
        "df_final = pd.DataFrame({\n",
        "    'Registration Number': registration_numbers,\n",
        "    'Attendance Marks': attendance_marks,\n",
        "    'Term Final Marks': term_final_marks\n",
        "})\n",
        "\n",
        "# Save to CSV\n",
        "df_final.to_csv('attendance-term-final.csv', index=False)\n",
        "\n",
        "# Load the CSV file\n",
        "df_final = pd.read_csv('attendance-term-final.csv')\n",
        "\n",
        "# Merge with the latest term test dataframe\n",
        "df_final_merged = pd.merge(df_merged, df_final, on='Registration Number')\n",
        "\n",
        "# Create 'Final Marks' column\n",
        "df_final_merged['Final Marks'] = df_final_merged['Term Final Marks'] * 0.7 + df_final_merged['Average Marks'] + df_final_merged['Attendance Marks']"
      ],
      "metadata": {
        "id": "dAzoNEXiuRXh"
      },
      "execution_count": 6,
      "outputs": []
    },
    {
      "cell_type": "markdown",
      "source": [
        "Step 7: Save to final result.csv"
      ],
      "metadata": {
        "id": "K642D-MyvCtw"
      }
    },
    {
      "cell_type": "code",
      "source": [
        "# Save the final DataFrame to CSV\n",
        "df_final_merged.to_csv('final result.csv', index=False)"
      ],
      "metadata": {
        "id": "JNdJoFQUuUQp"
      },
      "execution_count": 7,
      "outputs": []
    },
    {
      "cell_type": "markdown",
      "source": [
        "Step 8: K-Means Clustering and Visualization"
      ],
      "metadata": {
        "id": "__S4JmJtvFuJ"
      }
    },
    {
      "cell_type": "code",
      "source": [
        "from sklearn.cluster import KMeans\n",
        "import matplotlib.pyplot as plt\n",
        "\n",
        "# Load the final result CSV\n",
        "df_final_result = pd.read_csv('final result.csv')\n",
        "\n",
        "# Extract 'Final Marks' for clustering\n",
        "X = df_final_result[['Final Marks']]\n",
        "\n",
        "# Perform K-Means clustering with K=3\n",
        "kmeans = KMeans(n_clusters=5, random_state=42)\n",
        "df_final_result['Cluster'] = kmeans.fit_predict(X)\n",
        "\n",
        "# Assign different y-values for each cluster\n",
        "y_values = df_final_result['Cluster'] * 0.1  # Adjust the multiplier for spacing\n",
        "\n",
        "# Visualize the clusters with different y labels\n",
        "plt.figure(figsize=(10, 6))\n",
        "for cluster in df_final_result['Cluster'].unique():\n",
        "    plt.scatter(df_final_result[df_final_result['Cluster'] == cluster]['Final Marks'],\n",
        "                y_values[df_final_result['Cluster'] == cluster],\n",
        "                label=f'Cluster {cluster}')\n",
        "\n",
        "plt.xlabel('Final Marks')\n",
        "plt.yticks([0, 0.1, 0.2], ['Cluster 0', 'Cluster 1', 'Cluster 2'])  # Set y-ticks to cluster labels\n",
        "plt.title('K-Means Clustering of Final Marks with Different Y Labels')\n",
        "plt.legend()\n",
        "plt.show()"
      ],
      "metadata": {
        "colab": {
          "base_uri": "https://localhost:8080/",
          "height": 564
        },
        "id": "gjibJpKKuljR",
        "outputId": "71765e25-b357-4a92-bedb-df95cc3783b4"
      },
      "execution_count": 11,
      "outputs": [
        {
          "output_type": "display_data",
          "data": {
            "text/plain": [
              "<Figure size 1000x600 with 1 Axes>"
            ],
            "image/png": "[encoded data removed]"
          },
          "metadata": {}
        }
      ]
    }
  ]
}